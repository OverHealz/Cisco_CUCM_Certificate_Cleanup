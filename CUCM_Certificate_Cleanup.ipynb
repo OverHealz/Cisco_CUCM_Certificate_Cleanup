{
 "cells": [
  {
   "cell_type": "markdown",
   "metadata": {},
   "source": [
    "## CUCM Certificate Cleanup"
   ]
  },
  {
   "cell_type": "markdown",
   "metadata": {},
   "source": [
    "### Process Overview\n",
    "1. Collect all the trust certificates from CUCM using admin CLI\n",
    "2. Inspect each certificate for validity\n",
    "3. Delete the expired certificates using the admin CLI\n",
    "4. Restart the tomcat service"
   ]
  },
  {
   "cell_type": "code",
   "execution_count": null,
   "metadata": {},
   "outputs": [],
   "source": [
    "import time\n",
    "import sys\n",
    "import itertools\n",
    "import paramiko\n",
    "from paramiko_expect import SSHClientInteraction\n",
    "import os\n",
    "import os.path\n",
    "import re\n",
    "import pandas as pd\n",
    "pd.set_option('display.max_colwidth', None)\n",
    "from datetime import timezone\n",
    "from email.utils import parsedate_to_datetime\n",
    "from email.utils import localtime\n",
    "from dotenv import load_dotenv"
   ]
  },
  {
   "cell_type": "markdown",
   "metadata": {},
   "source": [
    "### 1. Collect all the trust certificates from CUCM using admin CLI"
   ]
  },
  {
   "cell_type": "code",
   "execution_count": null,
   "metadata": {},
   "outputs": [],
   "source": [
    "# load all environment variables\n",
    "load_dotenv()\n",
    "\n",
    "#Create a SSH connection to the CUCM\n",
    "ssh = paramiko.SSHClient()\n",
    "ssh.set_missing_host_key_policy(paramiko.AutoAddPolicy())\n",
    "\n",
    "hostname = os.environ.get(\"HOSTNAME\")\n",
    "user = os.environ.get(\"USERNAME\")\n",
    "secret = os.environ.get(\"PASSWORD\")\n",
    "\n",
    "ssh.connect(hostname, username=user, password=secret)\n",
    "interact = SSHClientInteraction(ssh, timeout=90, display=True)\n",
    "interact.expect('admin:')"
   ]
  },
  {
   "cell_type": "code",
   "execution_count": null,
   "metadata": {
    "scrolled": false
   },
   "outputs": [],
   "source": [
    "#Store the output of the SSH commands\n",
    "output = []\n",
    "output.clear()\n",
    "\n",
    "#Display list of trust certificates\n",
    "interact.send(\"show cert list trust\")\n",
    "interact.expect('admin:')\n",
    "output.append(interact.current_output)\n",
    "certslist = interact.current_output"
   ]
  },
  {
   "cell_type": "markdown",
   "metadata": {},
   "source": [
    "### 2. Inspect each certificate for validity"
   ]
  },
  {
   "cell_type": "code",
   "execution_count": null,
   "metadata": {},
   "outputs": [],
   "source": [
    "#Extract the certifcate names using regex from the stored output\n",
    "certnames = re.findall(r'\\n(.*?)\\:', certslist)\n",
    "certnames.pop()\n",
    "\n",
    "#Display certs before and after modification (esp. nonalphanumeric characters before '-')\n",
    "\n",
    "df_cert_comp = pd.DataFrame(columns = ['Cert_Before','Cert_After'])\n",
    "certcnt = 0\n",
    "for i in range(len(certnames)):\n",
    "    orig = certnames[i]\n",
    "    repl = re.sub(r'[^a-zA-Z\\d\\s:]\\-[^a-zA-Z\\d\\s:]','_', certnames[i])\n",
    "    #certnames[i] = re.sub(r'[^a-zA-Z\\d\\s:]\\-[^a-zA-Z\\d\\s:]','_', certnames[i])\n",
    "    #certissue = re.sub(r'[^a-zA-Z\\d\\s:]\\-[^a-zA-Z\\d\\s:]',' ', certissue)\n",
    "    #print(certnames[i])\n",
    "    df_cert_temp = pd.DataFrame({'Cert_Before' : [orig], 'Cert_After' : [repl]})\n",
    "    df_cert_comp = df_cert_comp.append(df_cert_temp, ignore_index=True)\n",
    "    certcnt+=1\n",
    "print('Note: Number of trust certificates', certcnt)\n",
    "df_cert_comp"
   ]
  },
  {
   "cell_type": "code",
   "execution_count": null,
   "metadata": {
    "scrolled": true
   },
   "outputs": [],
   "source": [
    "#Dataframe to create new columns matching the cert names\n",
    "df_cert = pd.DataFrame(columns = ['Cert_Name', 'Valid_From', 'Valid_To', 'Validity'])\n",
    "\n",
    "#Capture local time in UTC\n",
    "lt = localtime()\n",
    "ltimestamp = lt.replace(tzinfo=timezone.utc).timestamp()\n",
    "\n",
    "#For each certificate, extract valid from, to and validate the certificate expiry\n",
    "count = 0 \n",
    "for i in range(len(certnames)):\n",
    "    output.clear()\n",
    "    #\n",
    "    command = 'show cert trust ' + certnames[i]\n",
    "    interact.send(command)\n",
    "    interact.expect(\"Press <enter> for 1 line, <space> for one page, or <q> to quit\",timeout = 5)\n",
    "    interact.send(\"q\")\n",
    "    output.append(interact.current_output)\n",
    "    interact.expect('admin:',timeout = 5)\n",
    "    #interact.expect('Press <enter> for 1 line, <space> for one page, or <q> to quit')\n",
    "    #output.append(interact.current_output)\n",
    "    #interact.expect('admin:')\n",
    "    #interact.send(\" \")\n",
    "    #output.append(interact.current_output)\n",
    "    \n",
    "    #Extract Validity From and To from the Certificate\n",
    "    output_str = ' '.join(str(elem) for elem in output)\n",
    "    valid_from = re.findall(r'From: (.*?)\\n', output_str)\n",
    "    valid_from_str = ' '.join(str(elem) for elem in valid_from)\n",
    "    valid_to = re.findall(r'To:   (.*?)\\n', output_str)\n",
    "    valid_to_str = ' '.join(str(elem) for elem in valid_to)\n",
    "    \n",
    "    print(certnames[i],valid_from_str,valid_to_str)\n",
    "    \n",
    "    #Capture the Cert Name, Valid From and Valid To into a dataframe and insert the values\n",
    "    df_cert_ind = pd.DataFrame({'Cert_Name' : [certnames[i]], 'Valid_From' : [valid_from_str], 'Valid_To' : [valid_to_str]})\n",
    "    df_cert = df_cert.append(df_cert_ind, ignore_index=True)\n",
    "    \n",
    "    #Validate the timestamp for Valid To field\n",
    "    if valid_to_str != \"\":\n",
    "        dt = parsedate_to_datetime(valid_to_str)\n",
    "        timestamp = dt.replace(tzinfo=timezone.utc).timestamp()\n",
    "    else:\n",
    "        valid_to_str = ltimestamp\n",
    "\n",
    "    #Logic to validate the certificate expiry\n",
    "    if timestamp > ltimestamp:\n",
    "        df_cert.Validity[i] = \"Valid\"\n",
    "    else:\n",
    "        df_cert.Validity[i] = \"Expired\"\n",
    "    \n",
    "    count = count + 1\n",
    "\n",
    "    time.sleep(10)\n",
    "\n",
    "    print (df_cert)"
   ]
  },
  {
   "cell_type": "code",
   "execution_count": null,
   "metadata": {},
   "outputs": [],
   "source": [
    "#Display all certificates with valid duration\n",
    "df_cert"
   ]
  },
  {
   "cell_type": "code",
   "execution_count": null,
   "metadata": {
    "scrolled": false
   },
   "outputs": [],
   "source": [
    "#Subset and Display expired certificates\n",
    "df_cert_exp = df_cert[df_cert.Validity == \"Expired\"]\n",
    "df_cert_exp"
   ]
  },
  {
   "cell_type": "markdown",
   "metadata": {},
   "source": [
    "### 3. Delete the expired certificates using the admin CLI"
   ]
  },
  {
   "cell_type": "code",
   "execution_count": null,
   "metadata": {},
   "outputs": [],
   "source": [
    "# Delete the expired certificates\n",
    "delcount = 0\n",
    "for cert in df_cert_exp[\"Cert_Name\"]:\n",
    "    unit = cert.rpartition('/')[0]\n",
    "    name = cert.rpartition('/')[2]\n",
    "    if unit == \"CallManager-trust\":\n",
    "        output.clear()\n",
    "        interact.send(\" \")\n",
    "        interact.expect('admin:')\n",
    "        command = \"set cert delete CallManager\" + name\n",
    "        interact.send(command)\n",
    "        time.sleep(5)\n",
    "        interact.send(\"yes\")\n",
    "        interact.send(\" \")\n",
    "        interact.expect('admin:', timeout = 5)\n",
    "    else if unit == \"CAPF-trust\":\n",
    "        output.clear()\n",
    "        interact.send(\" \")\n",
    "        interact.expect('admin:')\n",
    "        command = \"set cert delete CAPF\" + name\n",
    "        interact.send(command)\n",
    "        time.sleep(5)\n",
    "        interact.send(\"yes\")\n",
    "        interact.send(\" \")\n",
    "        interact.expect('admin:', timeout = 5)\n",
    "    else if unit == \"tomcat-trust\":\n",
    "        output.clear()\n",
    "        interact.send(\" \")\n",
    "        interact.expect('admin:')\n",
    "        command = \"set cert delete tomcat\" + name\n",
    "        interact.send(command)\n",
    "        time.sleep(5)\n",
    "        interact.send(\"yes\")\n",
    "        interact.send(\" \")\n",
    "        interact.expect('admin:', timeout = 5)\n",
    "    else if unit == \"ipsec-trust\":\n",
    "        output.clear()\n",
    "        interact.send(\" \")\n",
    "        interact.expect('admin:')\n",
    "        command = \"set cert delete ipsec\" + name\n",
    "        interact.send(command)\n",
    "        time.sleep(5)\n",
    "        interact.send(\"yes\")\n",
    "        interact.send(\" \")\n",
    "        interact.expect('admin:', timeout = 5)\n",
    "    delcount = delcount + 1\n",
    "\n",
    "    time.sleep(10)\n",
    "\n",
    "print (delcount \"certs deleted\")"
   ]
  },
  {
   "cell_type": "code",
   "execution_count": null,
   "metadata": {},
   "outputs": [],
   "source": [
    "#Display any certificates after deletion\n",
    "df_cert_exp"
   ]
  },
  {
   "cell_type": "markdown",
   "metadata": {},
   "source": [
    "### 4. Restart the tomcat service"
   ]
  },
  {
   "cell_type": "code",
   "execution_count": null,
   "metadata": {
    "scrolled": true
   },
   "outputs": [],
   "source": [
    "#Restart tomcat services\n",
    "output.clear()\n",
    "interact.send(\" \")\n",
    "interact.expect('admin:')\n",
    "interact.send(\"utils service restart Cisco Tomcat\")\n",
    "interact.send(\" \")\n",
    "interact.expect('admin:')"
   ]
  },
  {
   "cell_type": "code",
   "execution_count": null,
   "metadata": {},
   "outputs": [],
   "source": []
  }
 ],
 "metadata": {
  "kernelspec": {
   "display_name": "Python 3",
   "language": "python",
   "name": "python3"
  },
  "language_info": {
   "codemirror_mode": {
    "name": "ipython",
    "version": 3
   },
   "file_extension": ".py",
   "mimetype": "text/x-python",
   "name": "python",
   "nbconvert_exporter": "python",
   "pygments_lexer": "ipython3",
   "version": "3.7.6"
  }
 },
 "nbformat": 4,
 "nbformat_minor": 4
}
